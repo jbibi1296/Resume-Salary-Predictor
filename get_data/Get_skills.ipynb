{
 "cells": [
  {
   "cell_type": "code",
   "execution_count": 6,
   "metadata": {},
   "outputs": [],
   "source": [
    "from bs4 import BeautifulSoup\n",
    "import requests\n",
    "import selenium\n",
    "from selenium import webdriver\n",
    "from selenium import webdriver\n",
    "from selenium.webdriver.common.keys import Keys\n",
    "from bs4 import BeautifulSoup\n",
    "import re\n",
    "import pandas as pd\n",
    "import os\n",
    "import time\n",
    "import numpy as np\n",
    "import numpy"
   ]
  },
  {
   "cell_type": "code",
   "execution_count": 57,
   "metadata": {},
   "outputs": [],
   "source": [
    "skills = []\n",
    "driver = webdriver.Chrome(executable_path='./chromedriver')\n",
    "url = 'https://www.thebalancecareers.com/top-skills-to-list-on-linkedin-2062321'\n",
    "driver.get(url)\n",
    "soup = BeautifulSoup(driver.page_source, 'lxml').find('div',{'id':'mntl-sc-page_1-0'})\n",
    "jobs = soup.find_all('li')\n",
    "links = [link.find('a') for link in jobs]\n",
    "list_of_links = [link.attrs['href']for link in links if link != None]\n",
    "for link in list_of_links:\n",
    "    driver.get(link)\n",
    "    soup = BeautifulSoup(driver.page_source, 'lxml').find('div',{'id':'mntl-sc-page_1-0'})\n",
    "    jobs = soup.find_all('li')\n",
    "    [skills.append(skill.text) for skill in jobs]\n",
    "    \n",
    "driver.quit()\n",
    "\n",
    "\n",
    "\n",
    "\n"
   ]
  },
  {
   "cell_type": "code",
   "execution_count": 75,
   "metadata": {},
   "outputs": [
    {
     "data": {
      "text/plain": [
       "72"
      ]
     },
     "execution_count": 75,
     "metadata": {},
     "output_type": "execute_result"
    }
   ],
   "source": [
    "len(skills[0])"
   ]
  },
  {
   "cell_type": "code",
   "execution_count": 92,
   "metadata": {},
   "outputs": [],
   "source": [
    "for i,j in enumerate(skills):\n",
    "    if len(j)>70:\n",
    "        skills.pop(i)"
   ]
  },
  {
   "cell_type": "code",
   "execution_count": 91,
   "metadata": {},
   "outputs": [],
   "source": [
    "for i,j in enumerate(skills):\n",
    "    if '$' in j:\n",
    "        skills.pop(i)"
   ]
  },
  {
   "cell_type": "code",
   "execution_count": 94,
   "metadata": {},
   "outputs": [
    {
     "data": {
      "text/plain": [
       "(0, 'Asking thoughtful questions')"
      ]
     },
     "execution_count": 94,
     "metadata": {},
     "output_type": "execute_result"
    }
   ],
   "source": [
    "[(i,j) for i,j in enumerate(skills)][0]"
   ]
  },
  {
   "cell_type": "code",
   "execution_count": 97,
   "metadata": {},
   "outputs": [],
   "source": [
    "pd.DataFrame(skills).to_csv('./Jobs/list_of_skills.csv',index = False)"
   ]
  },
  {
   "cell_type": "code",
   "execution_count": 31,
   "metadata": {},
   "outputs": [
    {
     "ename": "KeyError",
     "evalue": "'href'",
     "output_type": "error",
     "traceback": [
      "\u001b[0;31m---------------------------------------------------------------------------\u001b[0m",
      "\u001b[0;31mKeyError\u001b[0m                                  Traceback (most recent call last)",
      "\u001b[0;32m<ipython-input-31-6954b55310a1>\u001b[0m in \u001b[0;36m<module>\u001b[0;34m\u001b[0m\n\u001b[0;32m----> 1\u001b[0;31m \u001b[0;34m[\u001b[0m\u001b[0mlink\u001b[0m\u001b[0;34m.\u001b[0m\u001b[0mattrs\u001b[0m\u001b[0;34m[\u001b[0m\u001b[0;34m'href'\u001b[0m\u001b[0;34m]\u001b[0m \u001b[0;32mfor\u001b[0m \u001b[0mlink\u001b[0m \u001b[0;32min\u001b[0m \u001b[0mlinks\u001b[0m \u001b[0;32mif\u001b[0m \u001b[0;34m'href'\u001b[0m \u001b[0;32min\u001b[0m \u001b[0mlinks\u001b[0m\u001b[0;34m[\u001b[0m\u001b[0;36m0\u001b[0m\u001b[0;34m]\u001b[0m\u001b[0;34m.\u001b[0m\u001b[0mattrs\u001b[0m\u001b[0;34m.\u001b[0m\u001b[0mkeys\u001b[0m\u001b[0;34m(\u001b[0m\u001b[0;34m)\u001b[0m\u001b[0;34m]\u001b[0m\u001b[0;34m\u001b[0m\u001b[0;34m\u001b[0m\u001b[0m\n\u001b[0m",
      "\u001b[0;32m<ipython-input-31-6954b55310a1>\u001b[0m in \u001b[0;36m<listcomp>\u001b[0;34m(.0)\u001b[0m\n\u001b[0;32m----> 1\u001b[0;31m \u001b[0;34m[\u001b[0m\u001b[0mlink\u001b[0m\u001b[0;34m.\u001b[0m\u001b[0mattrs\u001b[0m\u001b[0;34m[\u001b[0m\u001b[0;34m'href'\u001b[0m\u001b[0;34m]\u001b[0m \u001b[0;32mfor\u001b[0m \u001b[0mlink\u001b[0m \u001b[0;32min\u001b[0m \u001b[0mlinks\u001b[0m \u001b[0;32mif\u001b[0m \u001b[0;34m'href'\u001b[0m \u001b[0;32min\u001b[0m \u001b[0mlinks\u001b[0m\u001b[0;34m[\u001b[0m\u001b[0;36m0\u001b[0m\u001b[0;34m]\u001b[0m\u001b[0;34m.\u001b[0m\u001b[0mattrs\u001b[0m\u001b[0;34m.\u001b[0m\u001b[0mkeys\u001b[0m\u001b[0;34m(\u001b[0m\u001b[0;34m)\u001b[0m\u001b[0;34m]\u001b[0m\u001b[0;34m\u001b[0m\u001b[0;34m\u001b[0m\u001b[0m\n\u001b[0m",
      "\u001b[0;31mKeyError\u001b[0m: 'href'"
     ]
    }
   ],
   "source": [
    "[link.attrs['href'] for link in links ]"
   ]
  },
  {
   "cell_type": "code",
   "execution_count": 29,
   "metadata": {},
   "outputs": [
    {
     "data": {
      "text/plain": [
       "dict_keys(['href', 'class'])"
      ]
     },
     "execution_count": 29,
     "metadata": {},
     "output_type": "execute_result"
    }
   ],
   "source": [
    "links[0].attrs.keys()"
   ]
  },
  {
   "cell_type": "code",
   "execution_count": null,
   "metadata": {},
   "outputs": [],
   "source": [
    "\n",
    "\n",
    "\n",
    "\n",
    "\n",
    "\n",
    "pre = len(ss)\n",
    "title_list = []\n",
    "job_name = title_name.replace(' ','_')\n",
    "job_url_name = job_name.replace('_','+')\n",
    "pre_url = f'https://www.google.com/search?q={job_url_name}&ibp=htl;jobs#fpstate=tldetail&htidocid='\n",
    "#     driver = webdriver.Chrome(executable_path='./chromedriver')\n",
    "\n",
    "test_url = f'https://www.google.com/search?q={job_url_name}&ibp=htl;jobs'\n",
    "driver.get(test_url)\n",
    "proceed = 0\n",
    "#     while proceed != 'Y':\n",
    "#         proceed = input('Are You Ready To Proceed? (Y/N)')\n",
    "for i in [pre_url+link.attrs['id'][4:] for link in BeautifulSoup(driver.page_source, 'lxml').find_all('div',{'jsname':'x5pWN'})]:\n",
    "    driver.get(i)\n",
    "soup = BeautifulSoup(driver.page_source, 'lxml')\n",
    "jobs = soup.find_all('li')\n",
    "job_list = []\n",
    "for job in jobs:\n",
    "    if (job.find('h2',{'jsname':'SBkjJd'}) != None) and (job.find('span',{'class':'Cyt8W HBvzbc'}) != None) and (len(job.find_all('div',{'class':'tcoBdd'}))>1):\n",
    "        job_dic = {}\n",
    "        job_dic['title']= job.find('h2',{'jsname':'SBkjJd'}).text\n",
    "        title_list.append(job_dic['title'])\n",
    "        job_dic['company']=job.find('div',{'class':'pbHUre tcoBdd'}).text\n",
    "        job_dic['body']=job.find('span',{'class':'Cyt8W HBvzbc'}).text\n",
    "        job_dic['location']=job.find_all('div',{'class':'tcoBdd'})[1].text\n",
    "        try:\n",
    "            job_dic['salary']=job.find('span',{'class':'zE8vH'}).text.replace('CA','')\n",
    "        except:\n",
    "            job_dic['salary']=np.nan\n",
    "        job_dic['avg_salary']=avg(job_dic['salary'])\n",
    "        job_list.append(job_dic)\n",
    "#         full = pd.read_csv('./Jobs/full_jobs_df.csv')\n",
    "\n",
    "driver.quit()"
   ]
  }
 ],
 "metadata": {
  "kernelspec": {
   "display_name": "Python 3",
   "language": "python",
   "name": "python3"
  },
  "language_info": {
   "codemirror_mode": {
    "name": "ipython",
    "version": 3
   },
   "file_extension": ".py",
   "mimetype": "text/x-python",
   "name": "python",
   "nbconvert_exporter": "python",
   "pygments_lexer": "ipython3",
   "version": "3.6.8"
  }
 },
 "nbformat": 4,
 "nbformat_minor": 2
}
