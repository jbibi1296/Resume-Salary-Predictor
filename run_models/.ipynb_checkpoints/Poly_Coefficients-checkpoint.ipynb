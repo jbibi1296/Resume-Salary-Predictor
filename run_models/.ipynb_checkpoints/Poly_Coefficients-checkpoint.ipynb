{
 "cells": [
  {
   "cell_type": "code",
   "execution_count": 10,
   "metadata": {},
   "outputs": [],
   "source": [
    "import resume_evaluator as rr\n",
    "import pickle"
   ]
  },
  {
   "cell_type": "code",
   "execution_count": 11,
   "metadata": {},
   "outputs": [
    {
     "data": {
      "text/html": [
       "<div>\n",
       "<style scoped>\n",
       "    .dataframe tbody tr th:only-of-type {\n",
       "        vertical-align: middle;\n",
       "    }\n",
       "\n",
       "    .dataframe tbody tr th {\n",
       "        vertical-align: top;\n",
       "    }\n",
       "\n",
       "    .dataframe thead th {\n",
       "        text-align: right;\n",
       "    }\n",
       "</style>\n",
       "<table border=\"1\" class=\"dataframe\">\n",
       "  <thead>\n",
       "    <tr style=\"text-align: right;\">\n",
       "      <th></th>\n",
       "      <th>Linear Regression</th>\n",
       "      <th>Lasso</th>\n",
       "      <th>Ridge</th>\n",
       "      <th>Random Forest</th>\n",
       "      <th>Gradient Boost</th>\n",
       "      <th>Neural Net</th>\n",
       "      <th>Linear Regression Poly</th>\n",
       "      <th>Lasso Poly</th>\n",
       "      <th>Ridge Poly</th>\n",
       "      <th>Random Forest Poly</th>\n",
       "      <th>Gradient Boost Poly</th>\n",
       "      <th>Neural Net Poly</th>\n",
       "    </tr>\n",
       "  </thead>\n",
       "  <tbody>\n",
       "    <tr>\n",
       "      <th>margin</th>\n",
       "      <td>29566.617368</td>\n",
       "      <td>30009.573804</td>\n",
       "      <td>29512.90246</td>\n",
       "      <td>19174.888474</td>\n",
       "      <td>19125.20237</td>\n",
       "      <td>24186.225429</td>\n",
       "      <td>27454.551055</td>\n",
       "      <td>28249.512286</td>\n",
       "      <td>27284.01018</td>\n",
       "      <td>18182.670136</td>\n",
       "      <td>18082.175024</td>\n",
       "      <td>15667.627239</td>\n",
       "    </tr>\n",
       "    <tr>\n",
       "      <th>worth</th>\n",
       "      <td>30751.190000</td>\n",
       "      <td>71785.090000</td>\n",
       "      <td>77627.98000</td>\n",
       "      <td>88718.190000</td>\n",
       "      <td>92275.30000</td>\n",
       "      <td>20239.880859</td>\n",
       "      <td>76571.440000</td>\n",
       "      <td>77330.550000</td>\n",
       "      <td>76381.18000</td>\n",
       "      <td>116817.500000</td>\n",
       "      <td>116250.460000</td>\n",
       "      <td>59364.300781</td>\n",
       "    </tr>\n",
       "  </tbody>\n",
       "</table>\n",
       "</div>"
      ],
      "text/plain": [
       "        Linear Regression         Lasso        Ridge  Random Forest  \\\n",
       "margin       29566.617368  30009.573804  29512.90246   19174.888474   \n",
       "worth        30751.190000  71785.090000  77627.98000   88718.190000   \n",
       "\n",
       "        Gradient Boost    Neural Net  Linear Regression Poly    Lasso Poly  \\\n",
       "margin     19125.20237  24186.225429            27454.551055  28249.512286   \n",
       "worth      92275.30000  20239.880859            76571.440000  77330.550000   \n",
       "\n",
       "         Ridge Poly  Random Forest Poly  Gradient Boost Poly  Neural Net Poly  \n",
       "margin  27284.01018        18182.670136         18082.175024     15667.627239  \n",
       "worth   76381.18000       116817.500000        116250.460000     59364.300781  "
      ]
     },
     "execution_count": 11,
     "metadata": {},
     "output_type": "execute_result"
    }
   ],
   "source": [
    "rr.check_all_worths(\"python machine learning\")"
   ]
  },
  {
   "cell_type": "code",
   "execution_count": 12,
   "metadata": {},
   "outputs": [],
   "source": [
    "lr_intercept = rr.check_your_worth(\"\",'lr')[0]\n",
    "ls_intercept = rr.check_your_worth(\"\",'ls')[0]\n",
    "rd_intercept = rr.check_your_worth(\"\",'rd')[0]\n",
    "rf_intercept = rr.check_your_worth(\"\",'rf')[0]\n",
    "gb_intercept = rr.check_your_worth(\"\",'gb')[0]\n",
    "nn_intercept = rr.check_your_worth(\"\",'nn')[0]"
   ]
  },
  {
   "cell_type": "code",
   "execution_count": 13,
   "metadata": {},
   "outputs": [],
   "source": [
    "stop_words = pickle.load( open( \"./models/word cleaning/custom_stop_words.pkl\", \"rb\" ) )\n",
    "body = pickle.load( open( \"./models/word cleaning/body.pkl\", \"rb\" ) )\n",
    "title = pickle.load( open( \"./models/word cleaning/title.pkl\", \"rb\" ) )\n",
    "location = pickle.load( open( \"./models/word cleaning/location.pkl\", \"rb\" ) )\n",
    "poly = pickle.load( open(\"./models/poly/poly_features.pkl\", \"rb\"))\n",
    "pca = pickle.load( open(\"./models/poly/pca.pkl\", \"rb\"))"
   ]
  },
  {
   "cell_type": "code",
   "execution_count": null,
   "metadata": {},
   "outputs": [],
   "source": [
    "lr_coefs = [rr.check_your_worth(i,'lr')[0]-lr_intercept for i in body.get_feature_names()]\n",
    "ls_coefs = [rr.check_your_worth(i,'ls')[0]-ls_intercept for i in body.get_feature_names()]\n",
    "rd_coefs = [rr.check_your_worth(i,'rd')[0]-rd_intercept for i in body.get_feature_names()]\n",
    "rf_coefs = [rr.check_your_worth(i,'rf')[0]-rf_intercept for i in body.get_feature_names()]\n",
    "gb_coefs = [rr.check_your_worth(i,'gb')[0]-gb_intercept for i in body.get_feature_names()]\n",
    "nn_coefs = [rr.check_your_worth(i,'nn')[0]-nn_intercept for i in body.get_feature_names()]"
   ]
  },
  {
   "cell_type": "code",
   "execution_count": null,
   "metadata": {},
   "outputs": [],
   "source": [
    "import pandas as pd"
   ]
  },
  {
   "cell_type": "code",
   "execution_count": null,
   "metadata": {},
   "outputs": [],
   "source": [
    "df = pd.DataFrame(body.get_feature_names())"
   ]
  },
  {
   "cell_type": "code",
   "execution_count": null,
   "metadata": {},
   "outputs": [],
   "source": [
    "df['lr'] = lr_coefs\n",
    "df['ls'] = ls_coefs\n",
    "df['rd'] = rd_coefs\n",
    "df['rf'] = rf_coefs\n",
    "df['gb'] = gb_coefs\n",
    "df['nn'] = nn_coefs"
   ]
  },
  {
   "cell_type": "code",
   "execution_count": null,
   "metadata": {},
   "outputs": [],
   "source": [
    "df.sort_values('gb',ascending = False)"
   ]
  },
  {
   "cell_type": "code",
   "execution_count": null,
   "metadata": {},
   "outputs": [],
   "source": [
    "pickle.dump(df, open(\"./Poly_Coefficients.pkl\", \"wb\"))"
   ]
  },
  {
   "cell_type": "code",
   "execution_count": null,
   "metadata": {},
   "outputs": [],
   "source": []
  }
 ],
 "metadata": {
  "kernelspec": {
   "display_name": "Python 3",
   "language": "python",
   "name": "python3"
  },
  "language_info": {
   "codemirror_mode": {
    "name": "ipython",
    "version": 3
   },
   "file_extension": ".py",
   "mimetype": "text/x-python",
   "name": "python",
   "nbconvert_exporter": "python",
   "pygments_lexer": "ipython3",
   "version": "3.6.8"
  }
 },
 "nbformat": 4,
 "nbformat_minor": 2
}
