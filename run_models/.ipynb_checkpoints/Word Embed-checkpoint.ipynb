{
 "cells": [
  {
   "cell_type": "markdown",
   "metadata": {},
   "source": [
    "# Import Libraries"
   ]
  },
  {
   "cell_type": "code",
   "execution_count": 27,
   "metadata": {},
   "outputs": [],
   "source": [
    "import pandas as pd\n",
    "import numpy as np\n",
    "import pickle\n",
    "\n",
    "from sklearn.model_selection import train_test_split\n",
    "from sklearn.metrics import accuracy_score\n",
    "\n",
    "from keras.models import Sequential\n",
    "from keras.layers import Dense, Dropout, GRU, LeakyReLU, Flatten, Conv1D\n",
    "from keras.layers.embeddings import Embedding\n",
    "from keras.preprocessing.text import one_hot\n",
    "from keras.preprocessing.sequence import pad_sequences\n",
    "from keras.optimizers import RMSprop\n",
    "from keras import layers\n",
    "import clean as cl"
   ]
  },
  {
   "cell_type": "markdown",
   "metadata": {},
   "source": [
    "## Import Data"
   ]
  },
  {
   "cell_type": "code",
   "execution_count": 29,
   "metadata": {},
   "outputs": [],
   "source": [
    "all_jobs_df = pd.read_csv('../part_02/Jobs/full_jobs_df.csv')\n",
    "list_of_skills = pd.read_csv('../part_02/Jobs/list_of_skills.csv')"
   ]
  },
  {
   "cell_type": "markdown",
   "metadata": {},
   "source": [
    "## Clean Data"
   ]
  },
  {
   "cell_type": "markdown",
   "metadata": {},
   "source": [
    "### Clean the Average Salary Column"
   ]
  },
  {
   "cell_type": "code",
   "execution_count": 32,
   "metadata": {},
   "outputs": [],
   "source": [
    "all_jobs_df['avg_salary']=[cl.avg(i) for i in all_jobs_df.salary]"
   ]
  },
  {
   "cell_type": "markdown",
   "metadata": {},
   "source": [
    "### Drop all rows with Null values in the Salary Column"
   ]
  },
  {
   "cell_type": "code",
   "execution_count": 33,
   "metadata": {},
   "outputs": [],
   "source": [
    "df = all_jobs_df.dropna(subset = ['salary'])"
   ]
  },
  {
   "cell_type": "code",
   "execution_count": 34,
   "metadata": {},
   "outputs": [],
   "source": [
    "df.reset_index(drop = True,inplace=True)"
   ]
  },
  {
   "cell_type": "code",
   "execution_count": 36,
   "metadata": {},
   "outputs": [],
   "source": [
    "X = df.body\n",
    "y = df.avg_salary"
   ]
  },
  {
   "cell_type": "code",
   "execution_count": 37,
   "metadata": {},
   "outputs": [],
   "source": [
    "# integer encode the documents\n",
    "vocab_size = 4000\n",
    "encoded_docs = [one_hot(d, vocab_size) for d in X]"
   ]
  },
  {
   "cell_type": "code",
   "execution_count": 38,
   "metadata": {},
   "outputs": [],
   "source": [
    "# pad documents to a max length of 4 words\n",
    "max_length = 1950\n",
    "padded_docs = pad_sequences(encoded_docs, maxlen=max_length, padding='post')"
   ]
  },
  {
   "cell_type": "code",
   "execution_count": 55,
   "metadata": {},
   "outputs": [],
   "source": [
    "model = Sequential()\n",
    "model.add(Embedding(vocab_size, 250, input_length=max_length))\n",
    "model.add(layers.Conv1D(32, 7, activation = 'relu'))\n",
    "model.add(Flatten())\n",
    "model.add(Dense(128, activation = 'relu'))\n",
    "model.add(Dense(1))"
   ]
  },
  {
   "cell_type": "code",
   "execution_count": 56,
   "metadata": {},
   "outputs": [
    {
     "name": "stdout",
     "output_type": "stream",
     "text": [
      "Train on 2422 samples, validate on 606 samples\n",
      "Epoch 1/8\n",
      "2422/2422 [==============================] - 41s 17ms/step - loss: 5632770118.0776 - val_loss: 1245246750.4158\n",
      "Epoch 2/8\n",
      "2422/2422 [==============================] - 43s 18ms/step - loss: 1390839138.1404 - val_loss: 1097839128.9241\n",
      "Epoch 3/8\n",
      "2422/2422 [==============================] - 44s 18ms/step - loss: 1267276404.5846 - val_loss: 1020944279.6568\n",
      "Epoch 4/8\n",
      "2422/2422 [==============================] - 51s 21ms/step - loss: 1142724773.2585 - val_loss: 918342742.1782\n",
      "Epoch 5/8\n",
      "2422/2422 [==============================] - 40s 16ms/step - loss: 1042951109.4963 - val_loss: 838832681.3993\n",
      "Epoch 6/8\n",
      "2422/2422 [==============================] - 45s 19ms/step - loss: 937353490.9199 - val_loss: 816812513.1617\n",
      "Epoch 7/8\n",
      "2422/2422 [==============================] - 43s 18ms/step - loss: 864296244.2147 - val_loss: 801249618.7987\n",
      "Epoch 8/8\n",
      "2422/2422 [==============================] - 41s 17ms/step - loss: 794416796.9612 - val_loss: 816393572.5413\n"
     ]
    },
    {
     "data": {
      "text/plain": [
       "<keras.callbacks.History at 0x1605a86a0>"
      ]
     },
     "execution_count": 56,
     "metadata": {},
     "output_type": "execute_result"
    }
   ],
   "source": [
    "model.compile(optimizer='adam', loss='mse')\n",
    "model.fit(padded_docs, y,\n",
    "          validation_split=.2,\n",
    "          epochs=8, \n",
    "          verbose=1, \n",
    "          batch_size=32)"
   ]
  },
  {
   "cell_type": "code",
   "execution_count": 57,
   "metadata": {},
   "outputs": [],
   "source": [
    "model.save('./app/models/word embeddings/CNN.h5')"
   ]
  },
  {
   "cell_type": "code",
   "execution_count": null,
   "metadata": {},
   "outputs": [],
   "source": []
  }
 ],
 "metadata": {
  "kernelspec": {
   "display_name": "Python 3",
   "language": "python",
   "name": "python3"
  },
  "language_info": {
   "codemirror_mode": {
    "name": "ipython",
    "version": 3
   },
   "file_extension": ".py",
   "mimetype": "text/x-python",
   "name": "python",
   "nbconvert_exporter": "python",
   "pygments_lexer": "ipython3",
   "version": "3.6.8"
  }
 },
 "nbformat": 4,
 "nbformat_minor": 2
}
