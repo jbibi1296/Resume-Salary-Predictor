{
 "cells": [
  {
   "cell_type": "markdown",
   "metadata": {},
   "source": [
    "# Get Coefficients"
   ]
  },
  {
   "cell_type": "markdown",
   "metadata": {},
   "source": [
    "#### **This notebook is to use our models to get a \"coefficient\" for each word**\n",
    "#### *These coefficients are solely for inference purposes as they are not 100% accurate*"
   ]
  },
  {
   "cell_type": "code",
   "execution_count": 1,
   "metadata": {},
   "outputs": [
    {
     "name": "stderr",
     "output_type": "stream",
     "text": [
      "Using TensorFlow backend.\n"
     ]
    },
    {
     "name": "stdout",
     "output_type": "stream",
     "text": [
      "WARNING:tensorflow:From /anaconda3/lib/python3.6/site-packages/tensorflow/python/framework/op_def_library.py:263: colocate_with (from tensorflow.python.framework.ops) is deprecated and will be removed in a future version.\n",
      "Instructions for updating:\n",
      "Colocations handled automatically by placer.\n",
      "WARNING:tensorflow:From /anaconda3/lib/python3.6/site-packages/tensorflow/python/ops/math_ops.py:3066: to_int32 (from tensorflow.python.ops.math_ops) is deprecated and will be removed in a future version.\n",
      "Instructions for updating:\n",
      "Use tf.cast instead.\n"
     ]
    }
   ],
   "source": [
    "import resume_evaluator as rr\n",
    "import pickle"
   ]
  },
  {
   "cell_type": "code",
   "execution_count": 4,
   "metadata": {},
   "outputs": [],
   "source": [
    "lr_intercept = rr.check_your_worth(\"\",'lr')[3]\n",
    "ls_intercept = rr.check_your_worth(\"\",'ls')[3]\n",
    "rd_intercept = rr.check_your_worth(\"\",'rd')[3]\n",
    "rf_intercept = rr.check_your_worth(\"\",'rf')[3]\n",
    "gb_intercept = rr.check_your_worth(\"\",'gb')[3]\n",
    "nn_intercept = rr.check_your_worth(\"\",'nn')[3]"
   ]
  },
  {
   "cell_type": "code",
   "execution_count": 5,
   "metadata": {},
   "outputs": [],
   "source": [
    "stop_words = pickle.load( open( \"./models/word cleaning/custom_stop_words.pkl\", \"rb\" ) )\n",
    "body = pickle.load( open( \"./models/word cleaning/body.pkl\", \"rb\" ) )\n",
    "title = pickle.load( open( \"./models/word cleaning/title.pkl\", \"rb\" ) )\n",
    "location = pickle.load( open( \"./models/word cleaning/location.pkl\", \"rb\" ) )\n",
    "poly = pickle.load( open(\"./models/poly/poly_features.pkl\", \"rb\"))\n",
    "pca = pickle.load( open(\"./models/poly/pca.pkl\", \"rb\"))"
   ]
  },
  {
   "cell_type": "code",
   "execution_count": 6,
   "metadata": {},
   "outputs": [],
   "source": [
    "lr_coefs = [rr.check_your_worth(i,'lr')[3]-lr_intercept for i in body.get_feature_names()]\n",
    "ls_coefs = [rr.check_your_worth(i,'ls')[3]-ls_intercept for i in body.get_feature_names()]\n",
    "rd_coefs = [rr.check_your_worth(i,'rd')[3]-rd_intercept for i in body.get_feature_names()]\n",
    "rf_coefs = [rr.check_your_worth(i,'rf')[3]-rf_intercept for i in body.get_feature_names()]\n",
    "gb_coefs = [rr.check_your_worth(i,'gb')[3]-gb_intercept for i in body.get_feature_names()]\n",
    "nn_coefs = [rr.check_your_worth(i,'nn')[3]-nn_intercept for i in body.get_feature_names()]"
   ]
  },
  {
   "cell_type": "code",
   "execution_count": 7,
   "metadata": {},
   "outputs": [],
   "source": [
    "import pandas as pd"
   ]
  },
  {
   "cell_type": "code",
   "execution_count": 8,
   "metadata": {},
   "outputs": [],
   "source": [
    "df = pd.DataFrame(body.get_feature_names())"
   ]
  },
  {
   "cell_type": "code",
   "execution_count": 9,
   "metadata": {},
   "outputs": [],
   "source": [
    "df['Linear Regression'] = lr_coefs\n",
    "df['Lasso'] = ls_coefs\n",
    "df['Ridge'] = rd_coefs\n",
    "df['Random Forest'] = rf_coefs\n",
    "df['Gradient Boost'] = gb_coefs\n",
    "df['Neural Network'] = nn_coefs"
   ]
  },
  {
   "cell_type": "code",
   "execution_count": 11,
   "metadata": {},
   "outputs": [
    {
     "data": {
      "text/html": [
       "<div>\n",
       "<style scoped>\n",
       "    .dataframe tbody tr th:only-of-type {\n",
       "        vertical-align: middle;\n",
       "    }\n",
       "\n",
       "    .dataframe tbody tr th {\n",
       "        vertical-align: top;\n",
       "    }\n",
       "\n",
       "    .dataframe thead th {\n",
       "        text-align: right;\n",
       "    }\n",
       "</style>\n",
       "<table border=\"1\" class=\"dataframe\">\n",
       "  <thead>\n",
       "    <tr style=\"text-align: right;\">\n",
       "      <th></th>\n",
       "      <th>0</th>\n",
       "      <th>Linear Regression</th>\n",
       "      <th>Lasso</th>\n",
       "      <th>Ridge</th>\n",
       "      <th>Random Forest</th>\n",
       "      <th>Gradient Boost</th>\n",
       "      <th>Neural Network</th>\n",
       "    </tr>\n",
       "  </thead>\n",
       "  <tbody>\n",
       "    <tr>\n",
       "      <th>231</th>\n",
       "      <td>team</td>\n",
       "      <td>15525.0</td>\n",
       "      <td>0.0</td>\n",
       "      <td>3852.0</td>\n",
       "      <td>8552.0</td>\n",
       "      <td>9051.0</td>\n",
       "      <td>19407.0</td>\n",
       "    </tr>\n",
       "    <tr>\n",
       "      <th>58</th>\n",
       "      <td>data science</td>\n",
       "      <td>1297.0</td>\n",
       "      <td>830.0</td>\n",
       "      <td>-409.0</td>\n",
       "      <td>3887.0</td>\n",
       "      <td>8631.0</td>\n",
       "      <td>12388.0</td>\n",
       "    </tr>\n",
       "    <tr>\n",
       "      <th>219</th>\n",
       "      <td>sql</td>\n",
       "      <td>-8824.0</td>\n",
       "      <td>0.0</td>\n",
       "      <td>-3469.0</td>\n",
       "      <td>5186.0</td>\n",
       "      <td>8592.0</td>\n",
       "      <td>27307.0</td>\n",
       "    </tr>\n",
       "    <tr>\n",
       "      <th>207</th>\n",
       "      <td>scale</td>\n",
       "      <td>46859.0</td>\n",
       "      <td>43160.0</td>\n",
       "      <td>35837.0</td>\n",
       "      <td>3992.0</td>\n",
       "      <td>8165.0</td>\n",
       "      <td>33909.0</td>\n",
       "    </tr>\n",
       "    <tr>\n",
       "      <th>210</th>\n",
       "      <td>senior</td>\n",
       "      <td>30306.0</td>\n",
       "      <td>31985.0</td>\n",
       "      <td>25870.0</td>\n",
       "      <td>4739.0</td>\n",
       "      <td>6982.0</td>\n",
       "      <td>39499.0</td>\n",
       "    </tr>\n",
       "    <tr>\n",
       "      <th>49</th>\n",
       "      <td>computer science</td>\n",
       "      <td>1654.0</td>\n",
       "      <td>0.0</td>\n",
       "      <td>-1082.0</td>\n",
       "      <td>5377.0</td>\n",
       "      <td>6404.0</td>\n",
       "      <td>14502.0</td>\n",
       "    </tr>\n",
       "    <tr>\n",
       "      <th>23</th>\n",
       "      <td>big</td>\n",
       "      <td>55264.0</td>\n",
       "      <td>43155.0</td>\n",
       "      <td>39462.0</td>\n",
       "      <td>3585.0</td>\n",
       "      <td>6109.0</td>\n",
       "      <td>34775.0</td>\n",
       "    </tr>\n",
       "    <tr>\n",
       "      <th>67</th>\n",
       "      <td>design</td>\n",
       "      <td>76123.0</td>\n",
       "      <td>35307.0</td>\n",
       "      <td>38066.0</td>\n",
       "      <td>5091.0</td>\n",
       "      <td>5788.0</td>\n",
       "      <td>21379.0</td>\n",
       "    </tr>\n",
       "    <tr>\n",
       "      <th>130</th>\n",
       "      <td>leadership</td>\n",
       "      <td>38773.0</td>\n",
       "      <td>27412.0</td>\n",
       "      <td>30868.0</td>\n",
       "      <td>4017.0</td>\n",
       "      <td>5595.0</td>\n",
       "      <td>13125.0</td>\n",
       "    </tr>\n",
       "    <tr>\n",
       "      <th>223</th>\n",
       "      <td>strategic</td>\n",
       "      <td>29309.0</td>\n",
       "      <td>31793.0</td>\n",
       "      <td>29288.0</td>\n",
       "      <td>2485.0</td>\n",
       "      <td>5309.0</td>\n",
       "      <td>26621.0</td>\n",
       "    </tr>\n",
       "  </tbody>\n",
       "</table>\n",
       "</div>"
      ],
      "text/plain": [
       "                    0  Linear Regression    Lasso    Ridge  Random Forest  \\\n",
       "231              team            15525.0      0.0   3852.0         8552.0   \n",
       "58       data science             1297.0    830.0   -409.0         3887.0   \n",
       "219               sql            -8824.0      0.0  -3469.0         5186.0   \n",
       "207             scale            46859.0  43160.0  35837.0         3992.0   \n",
       "210            senior            30306.0  31985.0  25870.0         4739.0   \n",
       "49   computer science             1654.0      0.0  -1082.0         5377.0   \n",
       "23                big            55264.0  43155.0  39462.0         3585.0   \n",
       "67             design            76123.0  35307.0  38066.0         5091.0   \n",
       "130        leadership            38773.0  27412.0  30868.0         4017.0   \n",
       "223         strategic            29309.0  31793.0  29288.0         2485.0   \n",
       "\n",
       "     Gradient Boost  Neural Network  \n",
       "231          9051.0         19407.0  \n",
       "58           8631.0         12388.0  \n",
       "219          8592.0         27307.0  \n",
       "207          8165.0         33909.0  \n",
       "210          6982.0         39499.0  \n",
       "49           6404.0         14502.0  \n",
       "23           6109.0         34775.0  \n",
       "67           5788.0         21379.0  \n",
       "130          5595.0         13125.0  \n",
       "223          5309.0         26621.0  "
      ]
     },
     "execution_count": 11,
     "metadata": {},
     "output_type": "execute_result"
    }
   ],
   "source": [
    "df.sort_values('Gradient Boost',ascending = False).head(10)"
   ]
  },
  {
   "cell_type": "code",
   "execution_count": 12,
   "metadata": {},
   "outputs": [],
   "source": [
    "df.to_csv('./coefficients.csv', index=False)"
   ]
  }
 ],
 "metadata": {
  "kernelspec": {
   "display_name": "Python 3",
   "language": "python",
   "name": "python3"
  },
  "language_info": {
   "codemirror_mode": {
    "name": "ipython",
    "version": 3
   },
   "file_extension": ".py",
   "mimetype": "text/x-python",
   "name": "python",
   "nbconvert_exporter": "python",
   "pygments_lexer": "ipython3",
   "version": "3.6.8"
  }
 },
 "nbformat": 4,
 "nbformat_minor": 2
}
