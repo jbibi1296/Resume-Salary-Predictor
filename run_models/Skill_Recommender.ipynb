{
 "cells": [
  {
   "cell_type": "markdown",
   "metadata": {},
   "source": [
    "# Skills Recomender"
   ]
  },
  {
   "cell_type": "markdown",
   "metadata": {},
   "source": [
    "Here, we are using Word2Vec to look through our corpus.\n",
    "Word2Vec creates a vector for each word that is strongly related to the words that are closest to it.\n",
    "Word2Vec determines relationships between words and can determine the most similar words\n",
    "\n",
    "I would like to use Word2Vec as a model to act like a thesaurus. When somebody wants to write a specific word, this model will tell them which words are most related and whether it would add value to their resume or not."
   ]
  },
  {
   "cell_type": "markdown",
   "metadata": {},
   "source": [
    "# Import Libraries"
   ]
  },
  {
   "cell_type": "code",
   "execution_count": 19,
   "metadata": {},
   "outputs": [],
   "source": [
    "import pandas as pd\n",
    "import numpy as np\n",
    "import pickle\n",
    "\n",
    "import gensim\n",
    "import resume_evaluator as rr"
   ]
  },
  {
   "cell_type": "code",
   "execution_count": 20,
   "metadata": {},
   "outputs": [],
   "source": [
    "df = pd.read_csv(\"../get_data/Jobs/full_jobs_df.csv\")"
   ]
  },
  {
   "cell_type": "code",
   "execution_count": 56,
   "metadata": {},
   "outputs": [],
   "source": [
    "corpus = pickle.load( open( \"./corpus_for_skills.pkl\", \"rb\" ))"
   ]
  },
  {
   "cell_type": "markdown",
   "metadata": {},
   "source": [
    "## Similar Skills Recomender"
   ]
  },
  {
   "cell_type": "code",
   "execution_count": 57,
   "metadata": {},
   "outputs": [],
   "source": [
    "list_of_co = [i for i in corpus]"
   ]
  },
  {
   "cell_type": "code",
   "execution_count": 58,
   "metadata": {},
   "outputs": [],
   "source": [
    "word_corpus = [i.split() for i in corpus]"
   ]
  },
  {
   "cell_type": "code",
   "execution_count": 47,
   "metadata": {},
   "outputs": [],
   "source": [
    "w2v = gensim.models.Word2Vec(word_corpus)"
   ]
  },
  {
   "cell_type": "code",
   "execution_count": 48,
   "metadata": {},
   "outputs": [
    {
     "data": {
      "text/plain": [
       "<keras.layers.embeddings.Embedding at 0x1a663596a0>"
      ]
     },
     "execution_count": 48,
     "metadata": {},
     "output_type": "execute_result"
    }
   ],
   "source": [
    "w2v.wv.get_keras_embedding(train_embeddings=True)"
   ]
  },
  {
   "cell_type": "code",
   "execution_count": 70,
   "metadata": {},
   "outputs": [
    {
     "data": {
      "text/plain": [
       "[['ml', 0.89, '$2964.0'],\n",
       " ['supervise', 0.82, '$2964.0'],\n",
       " ['unsupervised', 0.82, '$2964.0'],\n",
       " ['robotics', 0.78, '$2964.0'],\n",
       " ['speech', 0.78, '$2964.0'],\n",
       " ['text', 0.78, '$2964.0'],\n",
       " ['algorithms', 0.78, '$14622.0'],\n",
       " ['inferential', 0.77, '$2964.0'],\n",
       " ['mine', 0.77, '$2964.0'],\n",
       " ['chatbot', 0.77, '$2964.0']]"
      ]
     },
     "execution_count": 70,
     "metadata": {},
     "output_type": "execute_result"
    }
   ],
   "source": [
    "w1 = ['nlp']\n",
    "[[i,round(j,2),f'${rr.check_your_worth(i,\"nn\")[3]}'] for i,j in w2v.wv.most_similar(positive = w1, topn = 10)]"
   ]
  },
  {
   "cell_type": "code",
   "execution_count": 71,
   "metadata": {},
   "outputs": [
    {
     "data": {
      "text/plain": [
       "[('machine', 0.8584825992584229),\n",
       " ('reinforcement', 0.7618800401687622),\n",
       " ('unsupervised', 0.7508411407470703),\n",
       " ('supervise', 0.6945710182189941),\n",
       " ('chatbot', 0.6919839978218079),\n",
       " ('ml', 0.6830817461013794),\n",
       " ('nlp', 0.6726317405700684),\n",
       " ('domain', 0.6213604807853699),\n",
       " ('unsolved', 0.6210526823997498),\n",
       " ('mathematical', 0.60197913646698)]"
      ]
     },
     "execution_count": 71,
     "metadata": {},
     "output_type": "execute_result"
    }
   ],
   "source": [
    "w2v.wv.most_similar('deep',topn = 10)"
   ]
  },
  {
   "cell_type": "code",
   "execution_count": 75,
   "metadata": {},
   "outputs": [],
   "source": [
    "pickle.dump(w2v, open( \"./Skill_Recommender_W2V.pkl\", \"wb\" ))"
   ]
  }
 ],
 "metadata": {
  "kernelspec": {
   "display_name": "Python 3",
   "language": "python",
   "name": "python3"
  },
  "language_info": {
   "codemirror_mode": {
    "name": "ipython",
    "version": 3
   },
   "file_extension": ".py",
   "mimetype": "text/x-python",
   "name": "python",
   "nbconvert_exporter": "python",
   "pygments_lexer": "ipython3",
   "version": "3.6.8"
  }
 },
 "nbformat": 4,
 "nbformat_minor": 2
}
