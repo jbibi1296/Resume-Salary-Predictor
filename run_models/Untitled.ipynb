{
 "cells": [
  {
   "cell_type": "code",
   "execution_count": 1,
   "metadata": {},
   "outputs": [
    {
     "name": "stderr",
     "output_type": "stream",
     "text": [
      "Using TensorFlow backend.\n"
     ]
    },
    {
     "name": "stdout",
     "output_type": "stream",
     "text": [
      "WARNING:tensorflow:From /anaconda3/lib/python3.6/site-packages/tensorflow/python/framework/op_def_library.py:263: colocate_with (from tensorflow.python.framework.ops) is deprecated and will be removed in a future version.\n",
      "Instructions for updating:\n",
      "Colocations handled automatically by placer.\n",
      "WARNING:tensorflow:From /anaconda3/lib/python3.6/site-packages/tensorflow/python/ops/math_ops.py:3066: to_int32 (from tensorflow.python.ops.math_ops) is deprecated and will be removed in a future version.\n",
      "Instructions for updating:\n",
      "Use tf.cast instead.\n"
     ]
    }
   ],
   "source": [
    "import resume_evaluator as rr"
   ]
  },
  {
   "cell_type": "code",
   "execution_count": 2,
   "metadata": {},
   "outputs": [],
   "source": [
    "import textract"
   ]
  },
  {
   "cell_type": "code",
   "execution_count": 3,
   "metadata": {},
   "outputs": [],
   "source": [
    "text = str(textract.process('/Users/jb/Downloads/Copy of TEMPLATE_ Resume #1 (1).pdf'))\n",
    "\n",
    "table = rr.check_all_worths(text)"
   ]
  },
  {
   "cell_type": "code",
   "execution_count": 4,
   "metadata": {},
   "outputs": [
    {
     "data": {
      "text/html": [
       "<div>\n",
       "<style scoped>\n",
       "    .dataframe tbody tr th:only-of-type {\n",
       "        vertical-align: middle;\n",
       "    }\n",
       "\n",
       "    .dataframe tbody tr th {\n",
       "        vertical-align: top;\n",
       "    }\n",
       "\n",
       "    .dataframe thead th {\n",
       "        text-align: right;\n",
       "    }\n",
       "</style>\n",
       "<table border=\"1\" class=\"dataframe\">\n",
       "  <thead>\n",
       "    <tr style=\"text-align: right;\">\n",
       "      <th></th>\n",
       "      <th>Linear Regression</th>\n",
       "      <th>Lasso</th>\n",
       "      <th>Ridge</th>\n",
       "      <th>Random Forest</th>\n",
       "      <th>Gradient Boost</th>\n",
       "      <th>Neural Net</th>\n",
       "      <th>Linear Regression Poly</th>\n",
       "      <th>Lasso Poly</th>\n",
       "      <th>Ridge Poly</th>\n",
       "      <th>Random Forest Poly</th>\n",
       "      <th>Gradient Boost Poly</th>\n",
       "      <th>Neural Net Poly</th>\n",
       "    </tr>\n",
       "  </thead>\n",
       "  <tbody>\n",
       "    <tr>\n",
       "      <th>Between</th>\n",
       "      <td>$106,708 - $165,842</td>\n",
       "      <td>$36,619 - $96,639</td>\n",
       "      <td>$47,299 - $106,325</td>\n",
       "      <td>$90,050 - $128,224</td>\n",
       "      <td>$87,704 - $125,792</td>\n",
       "      <td>$38,321 - $93,333</td>\n",
       "      <td>$44,794 - $95,574</td>\n",
       "      <td>$42,100 - $97,508</td>\n",
       "      <td>$45,217 - $94,941</td>\n",
       "      <td>$96,253 - $132,367</td>\n",
       "      <td>$98,661 - $134,727</td>\n",
       "      <td>$66,068 - $96,456</td>\n",
       "    </tr>\n",
       "    <tr>\n",
       "      <th>Estimated Salary</th>\n",
       "      <td>$136,275</td>\n",
       "      <td>$66,629</td>\n",
       "      <td>$76,812</td>\n",
       "      <td>$109,137</td>\n",
       "      <td>$106,748</td>\n",
       "      <td>$65,827</td>\n",
       "      <td>$70,184</td>\n",
       "      <td>$69,804</td>\n",
       "      <td>$70,079</td>\n",
       "      <td>$114,310</td>\n",
       "      <td>$116,694</td>\n",
       "      <td>$81,262</td>\n",
       "    </tr>\n",
       "  </tbody>\n",
       "</table>\n",
       "</div>"
      ],
      "text/plain": [
       "                    Linear Regression              Lasso               Ridge  \\\n",
       "Between           $106,708 - $165,842  $36,619 - $96,639  $47,299 - $106,325   \n",
       "Estimated Salary             $136,275            $66,629             $76,812   \n",
       "\n",
       "                       Random Forest      Gradient Boost         Neural Net  \\\n",
       "Between           $90,050 - $128,224  $87,704 - $125,792  $38,321 - $93,333   \n",
       "Estimated Salary            $109,137            $106,748            $65,827   \n",
       "\n",
       "                 Linear Regression Poly         Lasso Poly         Ridge Poly  \\\n",
       "Between               $44,794 - $95,574  $42,100 - $97,508  $45,217 - $94,941   \n",
       "Estimated Salary                $70,184            $69,804            $70,079   \n",
       "\n",
       "                  Random Forest Poly Gradient Boost Poly    Neural Net Poly  \n",
       "Between           $96,253 - $132,367  $98,661 - $134,727  $66,068 - $96,456  \n",
       "Estimated Salary            $114,310            $116,694            $81,262  "
      ]
     },
     "execution_count": 4,
     "metadata": {},
     "output_type": "execute_result"
    }
   ],
   "source": [
    "table"
   ]
  },
  {
   "cell_type": "code",
   "execution_count": 6,
   "metadata": {},
   "outputs": [
    {
     "data": {
      "text/html": [
       "<div>\n",
       "<style scoped>\n",
       "    .dataframe tbody tr th:only-of-type {\n",
       "        vertical-align: middle;\n",
       "    }\n",
       "\n",
       "    .dataframe tbody tr th {\n",
       "        vertical-align: top;\n",
       "    }\n",
       "\n",
       "    .dataframe thead th {\n",
       "        text-align: right;\n",
       "    }\n",
       "</style>\n",
       "<table border=\"1\" class=\"dataframe\">\n",
       "  <thead>\n",
       "    <tr style=\"text-align: right;\">\n",
       "      <th></th>\n",
       "      <th>Between</th>\n",
       "      <th>Estimated Salary</th>\n",
       "    </tr>\n",
       "  </thead>\n",
       "  <tbody>\n",
       "    <tr>\n",
       "      <th>Linear Regression</th>\n",
       "      <td>$106,708 - $165,842</td>\n",
       "      <td>$136,275</td>\n",
       "    </tr>\n",
       "    <tr>\n",
       "      <th>Lasso</th>\n",
       "      <td>$36,619 - $96,639</td>\n",
       "      <td>$66,629</td>\n",
       "    </tr>\n",
       "    <tr>\n",
       "      <th>Ridge</th>\n",
       "      <td>$47,299 - $106,325</td>\n",
       "      <td>$76,812</td>\n",
       "    </tr>\n",
       "    <tr>\n",
       "      <th>Random Forest</th>\n",
       "      <td>$90,050 - $128,224</td>\n",
       "      <td>$109,137</td>\n",
       "    </tr>\n",
       "    <tr>\n",
       "      <th>Gradient Boost</th>\n",
       "      <td>$87,704 - $125,792</td>\n",
       "      <td>$106,748</td>\n",
       "    </tr>\n",
       "    <tr>\n",
       "      <th>Neural Net</th>\n",
       "      <td>$38,321 - $93,333</td>\n",
       "      <td>$65,827</td>\n",
       "    </tr>\n",
       "    <tr>\n",
       "      <th>Linear Regression Poly</th>\n",
       "      <td>$44,794 - $95,574</td>\n",
       "      <td>$70,184</td>\n",
       "    </tr>\n",
       "    <tr>\n",
       "      <th>Lasso Poly</th>\n",
       "      <td>$42,100 - $97,508</td>\n",
       "      <td>$69,804</td>\n",
       "    </tr>\n",
       "    <tr>\n",
       "      <th>Ridge Poly</th>\n",
       "      <td>$45,217 - $94,941</td>\n",
       "      <td>$70,079</td>\n",
       "    </tr>\n",
       "    <tr>\n",
       "      <th>Random Forest Poly</th>\n",
       "      <td>$96,253 - $132,367</td>\n",
       "      <td>$114,310</td>\n",
       "    </tr>\n",
       "    <tr>\n",
       "      <th>Gradient Boost Poly</th>\n",
       "      <td>$98,661 - $134,727</td>\n",
       "      <td>$116,694</td>\n",
       "    </tr>\n",
       "    <tr>\n",
       "      <th>Neural Net Poly</th>\n",
       "      <td>$66,068 - $96,456</td>\n",
       "      <td>$81,262</td>\n",
       "    </tr>\n",
       "  </tbody>\n",
       "</table>\n",
       "</div>"
      ],
      "text/plain": [
       "                                    Between Estimated Salary\n",
       "Linear Regression       $106,708 - $165,842         $136,275\n",
       "Lasso                     $36,619 - $96,639          $66,629\n",
       "Ridge                    $47,299 - $106,325          $76,812\n",
       "Random Forest            $90,050 - $128,224         $109,137\n",
       "Gradient Boost           $87,704 - $125,792         $106,748\n",
       "Neural Net                $38,321 - $93,333          $65,827\n",
       "Linear Regression Poly    $44,794 - $95,574          $70,184\n",
       "Lasso Poly                $42,100 - $97,508          $69,804\n",
       "Ridge Poly                $45,217 - $94,941          $70,079\n",
       "Random Forest Poly       $96,253 - $132,367         $114,310\n",
       "Gradient Boost Poly      $98,661 - $134,727         $116,694\n",
       "Neural Net Poly           $66,068 - $96,456          $81,262"
      ]
     },
     "execution_count": 6,
     "metadata": {},
     "output_type": "execute_result"
    }
   ],
   "source": [
    "table.T"
   ]
  },
  {
   "cell_type": "code",
   "execution_count": 8,
   "metadata": {},
   "outputs": [
    {
     "data": {
      "text/plain": [
       "'<table border=\"1\" class=\"dataframe\">\\n  <thead>\\n    <tr style=\"text-align: right;\">\\n      <th></th>\\n      <th>Linear Regression</th>\\n      <th>Lasso</th>\\n      <th>Ridge</th>\\n      <th>Random Forest</th>\\n      <th>Gradient Boost</th>\\n      <th>Neural Net</th>\\n      <th>Linear Regression Poly</th>\\n      <th>Lasso Poly</th>\\n      <th>Ridge Poly</th>\\n      <th>Random Forest Poly</th>\\n      <th>Gradient Boost Poly</th>\\n      <th>Neural Net Poly</th>\\n    </tr>\\n  </thead>\\n  <tbody>\\n    <tr>\\n      <th>Between</th>\\n      <td>$106,708 - $165,842</td>\\n      <td>$36,619 - $96,639</td>\\n      <td>$47,299 - $106,325</td>\\n      <td>$90,050 - $128,224</td>\\n      <td>$87,704 - $125,792</td>\\n      <td>$38,321 - $93,333</td>\\n      <td>$44,794 - $95,574</td>\\n      <td>$42,100 - $97,508</td>\\n      <td>$45,217 - $94,941</td>\\n      <td>$96,253 - $132,367</td>\\n      <td>$98,661 - $134,727</td>\\n      <td>$66,068 - $96,456</td>\\n    </tr>\\n    <tr>\\n      <th>Estimated Salary</th>\\n      <td>$136,275</td>\\n      <td>$66,629</td>\\n      <td>$76,812</td>\\n      <td>$109,137</td>\\n      <td>$106,748</td>\\n      <td>$65,827</td>\\n      <td>$70,184</td>\\n      <td>$69,804</td>\\n      <td>$70,079</td>\\n      <td>$114,310</td>\\n      <td>$116,694</td>\\n      <td>$81,262</td>\\n    </tr>\\n  </tbody>\\n</table>'"
      ]
     },
     "execution_count": 8,
     "metadata": {},
     "output_type": "execute_result"
    }
   ],
   "source": [
    "aa = table.to_html()\n",
    "aa.replace('<table border=\"1\" class=\"dataframe\">','<table border=\"1\" class=\"dataframe\" align=\"center\">')\n"
   ]
  },
  {
   "cell_type": "code",
   "execution_count": null,
   "metadata": {},
   "outputs": [],
   "source": []
  }
 ],
 "metadata": {
  "kernelspec": {
   "display_name": "Python 3",
   "language": "python",
   "name": "python3"
  },
  "language_info": {
   "codemirror_mode": {
    "name": "ipython",
    "version": 3
   },
   "file_extension": ".py",
   "mimetype": "text/x-python",
   "name": "python",
   "nbconvert_exporter": "python",
   "pygments_lexer": "ipython3",
   "version": "3.6.8"
  }
 },
 "nbformat": 4,
 "nbformat_minor": 2
}
