{
 "cells": [
  {
   "cell_type": "markdown",
   "metadata": {},
   "source": [
    "# Modeling (Poly)"
   ]
  },
  {
   "cell_type": "markdown",
   "metadata": {},
   "source": [
    "# Table of Contents\n",
    "\n",
    "- ## [Data Cleaning](./Data_Cleaning.ipynb)\n",
    "    - ### [Import Libraries](./Data_Cleaning.ipynb#Import-Libraries)\n",
    "    - ### [Import Data](./Data_Cleaning.ipynb#Import-Data)\n",
    "    - ### [Clean the \"Average Salary\" Column](./Data_Cleaning.ipynb#Clean-the-Average-Salary-Column)\n",
    "    - ### [Create Stop Words](./Data_Cleaning.ipynb#Create-Custom-Stop-Words)\n",
    "    - ### [Prepare words to be vectorized](./Data_Cleaning.ipynb#Tokenize%2C-Remove-Stop-Words%2C-Remove-Punctuation%2C-Lemmatize)\n",
    "    - ### [Vectorize Word Data](#Vectorize-Word-Data)\n",
    "- ## [Modeling](./Models.ipynb)\n",
    "    - ### [Import Libraries](./Models.ipynb#Import-Libraries)\n",
    "    - ### [Models](./Models.ipynb#Models)\n",
    "      - #### [Linear Regression](./Models.ipynb#Linear-Regression)\n",
    "      - #### [Lasso](./Models.ipynb#Lasso)\n",
    "      - #### [Ridge](./Models.ipynb#Ridge)\n",
    "      - #### [Random Forest Regressor](./Models.ipynb#Random-Forest-Regressor)\n",
    "      - #### [Gradient Boost Regressor](./Models.ipynb#Gradient-Boost-Regressor)\n",
    "      - #### [Neural Network](./Models.ipynb#Neural-Network))"
   ]
  },
  {
   "cell_type": "markdown",
   "metadata": {},
   "source": [
    "# Import Libraries"
   ]
  },
  {
   "cell_type": "code",
   "execution_count": 12,
   "metadata": {},
   "outputs": [],
   "source": [
    "import pandas as pd\n",
    "import numpy as np\n",
    "\n",
    "from sklearn.model_selection import train_test_split\n",
    "from sklearn.metrics import mean_squared_error\n"
   ]
  },
  {
   "cell_type": "code",
   "execution_count": 13,
   "metadata": {},
   "outputs": [],
   "source": [
    "import pickle\n",
    "X = pickle.load( open( \"../models/poly/X_95.pkl\", \"rb\" ))\n",
    "y = pickle.load( open( \"../models/poly/y.pkl\", \"rb\" ))              "
   ]
  },
  {
   "cell_type": "code",
   "execution_count": 14,
   "metadata": {},
   "outputs": [],
   "source": [
    "X_train, X_test, y_train, y_test = train_test_split(X,y, random_state = 42, test_size = .2)"
   ]
  },
  {
   "cell_type": "markdown",
   "metadata": {},
   "source": [
    "# Models"
   ]
  },
  {
   "cell_type": "code",
   "execution_count": 15,
   "metadata": {},
   "outputs": [],
   "source": [
    "import models as m"
   ]
  },
  {
   "cell_type": "markdown",
   "metadata": {},
   "source": [
    "## Linear Regression"
   ]
  },
  {
   "cell_type": "code",
   "execution_count": 16,
   "metadata": {},
   "outputs": [
    {
     "name": "stdout",
     "output_type": "stream",
     "text": [
      "The R2 score for this model is: 0.2965678068818711\n",
      "The RMSE is: 25389.984654733835\n"
     ]
    }
   ],
   "source": [
    "lr = m.linear_regression(X_train,y_train)\n",
    "\n",
    "pickle.dump( lr, open( \"../models/poly/Linear_model.pkl\", \"wb\" ) )\n",
    "\n",
    "print(f\"The R2 score for this model is: {lr.score(X_test,y_test)}\")\n",
    "\n",
    "lr_margin = np.sqrt(mean_squared_error(np.exp(y),np.exp(lr.predict(X))))\n",
    "\n",
    "pickle.dump(lr_margin, open( \"../models/poly/margins/lr_margin.pkl\", \"wb\" ) )\n",
    "\n",
    "print(f\"The RMSE is: {lr_margin}\")"
   ]
  },
  {
   "cell_type": "markdown",
   "metadata": {},
   "source": [
    "## Lasso"
   ]
  },
  {
   "cell_type": "code",
   "execution_count": 17,
   "metadata": {},
   "outputs": [
    {
     "name": "stdout",
     "output_type": "stream",
     "text": [
      "The R2 score for this model is: 0.489077559290809\n",
      "The RMSE is: 27703.709795836134\n"
     ]
    }
   ],
   "source": [
    "ls = m.lasso(X_train,y_train)\n",
    "\n",
    "pickle.dump( ls, open( \"../models/poly/Lasso_model.pkl\", \"wb\" ) )\n",
    "\n",
    "print(f\"The R2 score for this model is: {ls.score(X_test,y_test)}\")\n",
    "\n",
    "ls_margin = np.sqrt(mean_squared_error(np.exp(y),np.exp(ls.predict(X))))\n",
    "\n",
    "pickle.dump(ls_margin, open( \"../models/poly/margins/ls_margin.pkl\", \"wb\" ) )\n",
    "\n",
    "print(f\"The RMSE is: {ls_margin}\")"
   ]
  },
  {
   "cell_type": "markdown",
   "metadata": {},
   "source": [
    "## Ridge"
   ]
  },
  {
   "cell_type": "code",
   "execution_count": 18,
   "metadata": {},
   "outputs": [
    {
     "name": "stdout",
     "output_type": "stream",
     "text": [
      "The R2 score for this model is: 0.4959211623168871\n",
      "The RMSE is: 24861.792029883523\n"
     ]
    }
   ],
   "source": [
    "rd = m.ridge(X_train,y_train)\n",
    "\n",
    "pickle.dump( rd, open( \"../models/poly/Ridge_model.pkl\", \"wb\" ) )\n",
    "\n",
    "print(f\"The R2 score for this model is: {rd.score(X_test,y_test)}\")\n",
    "\n",
    "rd_margin = np.sqrt(mean_squared_error(np.exp(y),np.exp(rd.predict(X))))\n",
    "\n",
    "pickle.dump(rd_margin, open( \"../models/poly/margins/rd_margin.pkl\", \"wb\" ) )\n",
    "\n",
    "print(f\"The RMSE is: {rd_margin}\")"
   ]
  },
  {
   "cell_type": "markdown",
   "metadata": {},
   "source": [
    "## Random Forest Regressor"
   ]
  },
  {
   "cell_type": "code",
   "execution_count": 19,
   "metadata": {},
   "outputs": [
    {
     "name": "stdout",
     "output_type": "stream",
     "text": [
      "The R2 score for this model is: 0.48080912468522974\n",
      "The RMSE is: 18056.81980709426\n"
     ]
    }
   ],
   "source": [
    "rf = m.random_forest(X_train,y_train)\n",
    "\n",
    "pickle.dump( rf, open( \"../models/poly/Random_Forest_model.pkl\", \"wb\" ) )\n",
    "\n",
    "print(f\"The R2 score for this model is: {rf.score(X_test,y_test)}\")\n",
    "\n",
    "rf_margin = np.sqrt(mean_squared_error(np.exp(y),np.exp(rf.predict(X))))\n",
    "\n",
    "pickle.dump(rf_margin, open( \"../models/poly/margins/rf_margin.pkl\", \"wb\" ) )\n",
    "\n",
    "print(f\"The RMSE is: {rf_margin}\")"
   ]
  },
  {
   "cell_type": "markdown",
   "metadata": {},
   "source": [
    "## Gradient Boosting Regressor"
   ]
  },
  {
   "cell_type": "code",
   "execution_count": 20,
   "metadata": {},
   "outputs": [
    {
     "name": "stdout",
     "output_type": "stream",
     "text": [
      "The R2 score for this model is: 0.48426991127168206\n",
      "The RMSE is: 18032.72566107865\n"
     ]
    }
   ],
   "source": [
    "gb = m.random_forest(X_train,y_train)\n",
    "\n",
    "pickle.dump( gb, open( \"../models/poly/Gradient_Boost_model.pkl\", \"wb\" ) )\n",
    "\n",
    "print(f\"The R2 score for this model is: {gb.score(X_test,y_test)}\")\n",
    "\n",
    "gb_margin = np.sqrt(mean_squared_error(np.exp(y),np.exp(gb.predict(X))))\n",
    "\n",
    "pickle.dump(gb_margin, open( \"../models/poly/margins/gb_margin.pkl\", \"wb\" ) )\n",
    "\n",
    "print(f\"The RMSE is: {gb_margin}\")"
   ]
  },
  {
   "cell_type": "markdown",
   "metadata": {},
   "source": [
    "## Neural Network"
   ]
  },
  {
   "cell_type": "code",
   "execution_count": 21,
   "metadata": {},
   "outputs": [
    {
     "name": "stdout",
     "output_type": "stream",
     "text": [
      "The best epoch is 176 with a minimum loss of 0.1102323666608373\n",
      "The RMSE is: 15193.511639815557\n"
     ]
    }
   ],
   "source": [
    "best_epoch = m.get_best_epoch(X_train,y_train,X_test,y_test)\n",
    "\n",
    "nn = m.neural_net(X_train,y_train,X_test,y_test,best_epoch)\n",
    "\n",
    "nn.save(\"../models/poly/Neural_Net.h5\")\n",
    "\n",
    "nn_margin = np.sqrt(mean_squared_error(np.exp(y),np.exp(nn.predict(X))))\n",
    "\n",
    "pickle.dump(nn_margin, open( \"../models/poly/margins/nn_margin.pkl\", \"wb\" ) )\n",
    "\n",
    "print(f\"The RMSE is: {nn_margin}\")"
   ]
  },
  {
   "cell_type": "markdown",
   "metadata": {},
   "source": [
    "# Go To:\n",
    "[Original Modeling Process](../original/Models.ipynb) \n",
    "\n",
    "[Original Data Cleaning](../original/Data_Cleaning.ipynb)\n",
    "\n",
    "[Poly Modeling Process](../poly/Models.ipynb)\n",
    "\n",
    "[Poly Data Cleaning](../poly/Data_Cleaning.ipynb)"
   ]
  }
 ],
 "metadata": {
  "kernelspec": {
   "display_name": "Python 3",
   "language": "python",
   "name": "python3"
  },
  "language_info": {
   "codemirror_mode": {
    "name": "ipython",
    "version": 3
   },
   "file_extension": ".py",
   "mimetype": "text/x-python",
   "name": "python",
   "nbconvert_exporter": "python",
   "pygments_lexer": "ipython3",
   "version": "3.6.8"
  }
 },
 "nbformat": 4,
 "nbformat_minor": 2
}
